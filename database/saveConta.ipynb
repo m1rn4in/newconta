{
 "cells": [
  {
   "cell_type": "code",
   "execution_count": 1,
   "metadata": {},
   "outputs": [],
   "source": [
    "import pandas as pd\n",
    "from database.client import get_database\n",
    "from pymongo.database import Database"
   ]
  },
  {
   "cell_type": "code",
   "execution_count": 2,
   "metadata": {},
   "outputs": [
    {
     "name": "stderr",
     "output_type": "stream",
     "text": [
      "/home/mirna/Documents/Contabot/database/client.py:19: UserWarning: se conecto bien la db:\n",
      "  warn(\"se conecto bien la db:\")\n"
     ]
    }
   ],
   "source": [
    "db:Database = get_database()"
   ]
  },
  {
   "cell_type": "code",
   "execution_count": 3,
   "metadata": {},
   "outputs": [],
   "source": [
    "topics_n1_conta = pd.read_excel(\"./data-bot-conta.xlsx\",sheet_name=\"TopicosN1\")\n",
    "topics_n2_conta = pd.read_excel(\"./data-bot-conta.xlsx\",sheet_name=\"TopicosN2\")\n",
    "topics_n3_conta = pd.read_excel(\"./data-bot-conta.xlsx\",sheet_name=\"TopicosN3\")"
   ]
  },
  {
   "cell_type": "code",
   "execution_count": 4,
   "metadata": {},
   "outputs": [
    {
     "data": {
      "text/html": [
       "<div>\n",
       "<style scoped>\n",
       "    .dataframe tbody tr th:only-of-type {\n",
       "        vertical-align: middle;\n",
       "    }\n",
       "\n",
       "    .dataframe tbody tr th {\n",
       "        vertical-align: top;\n",
       "    }\n",
       "\n",
       "    .dataframe thead th {\n",
       "        text-align: right;\n",
       "    }\n",
       "</style>\n",
       "<table border=\"1\" class=\"dataframe\">\n",
       "  <thead>\n",
       "    <tr style=\"text-align: right;\">\n",
       "      <th></th>\n",
       "      <th>T1</th>\n",
       "      <th>nombre</th>\n",
       "    </tr>\n",
       "  </thead>\n",
       "  <tbody>\n",
       "    <tr>\n",
       "      <th>0</th>\n",
       "      <td>1</td>\n",
       "      <td>CONCEPTOS CLAVES</td>\n",
       "    </tr>\n",
       "    <tr>\n",
       "      <th>1</th>\n",
       "      <td>2</td>\n",
       "      <td>CUENTAS CONTABLES</td>\n",
       "    </tr>\n",
       "    <tr>\n",
       "      <th>2</th>\n",
       "      <td>3</td>\n",
       "      <td>MALLAS CONTABLES</td>\n",
       "    </tr>\n",
       "    <tr>\n",
       "      <th>3</th>\n",
       "      <td>4</td>\n",
       "      <td>ORIGEN DE INFORMACIÓN</td>\n",
       "    </tr>\n",
       "    <tr>\n",
       "      <th>4</th>\n",
       "      <td>5</td>\n",
       "      <td>CUADRES CONTABLES</td>\n",
       "    </tr>\n",
       "  </tbody>\n",
       "</table>\n",
       "</div>"
      ],
      "text/plain": [
       "   T1                 nombre\n",
       "0   1       CONCEPTOS CLAVES\n",
       "1   2      CUENTAS CONTABLES\n",
       "2   3       MALLAS CONTABLES\n",
       "3   4  ORIGEN DE INFORMACIÓN\n",
       "4   5      CUADRES CONTABLES"
      ]
     },
     "execution_count": 4,
     "metadata": {},
     "output_type": "execute_result"
    }
   ],
   "source": [
    "topics_n1_conta.head()"
   ]
  },
  {
   "cell_type": "code",
   "execution_count": 5,
   "metadata": {},
   "outputs": [
    {
     "data": {
      "text/plain": [
       "[{'T1': 1, 'nombre': 'CONCEPTOS CLAVES'},\n",
       " {'T1': 2, 'nombre': 'CUENTAS CONTABLES'},\n",
       " {'T1': 3, 'nombre': 'MALLAS CONTABLES'},\n",
       " {'T1': 4, 'nombre': 'ORIGEN DE INFORMACIÓN'},\n",
       " {'T1': 5, 'nombre': 'CUADRES CONTABLES'},\n",
       " {'T1': 6, 'nombre': 'DETALLE TÉCNICO'}]"
      ]
     },
     "execution_count": 5,
     "metadata": {},
     "output_type": "execute_result"
    }
   ],
   "source": [
    "data_list = []\n",
    "for i in range(len(topics_n1_conta)):\n",
    "    data_list.append(topics_n1_conta.iloc[i].to_dict())\n",
    "data_list"
   ]
  },
  {
   "cell_type": "code",
   "execution_count": 6,
   "metadata": {},
   "outputs": [
    {
     "data": {
      "text/plain": [
       "<pymongo.results.InsertManyResult at 0x7f4798316470>"
      ]
     },
     "execution_count": 6,
     "metadata": {},
     "output_type": "execute_result"
    }
   ],
   "source": [
    "collection = db[\"TopicosN1Conta\"]\n",
    "collection.insert_many(data_list)"
   ]
  },
  {
   "cell_type": "code",
   "execution_count": 7,
   "metadata": {},
   "outputs": [
    {
     "name": "stdout",
     "output_type": "stream",
     "text": [
      "{'_id': ObjectId('6537ff35af7f3c7c40af6e78'), 'T1': 1, 'nombre': 'CONCEPTOS CLAVES'}\n",
      "{'_id': ObjectId('6537ff35af7f3c7c40af6e79'), 'T1': 2, 'nombre': 'CUENTAS CONTABLES'}\n",
      "{'_id': ObjectId('6537ff35af7f3c7c40af6e7a'), 'T1': 3, 'nombre': 'MALLAS CONTABLES'}\n",
      "{'_id': ObjectId('6537ff35af7f3c7c40af6e7b'), 'T1': 4, 'nombre': 'ORIGEN DE INFORMACIÓN'}\n",
      "{'_id': ObjectId('6537ff35af7f3c7c40af6e7c'), 'T1': 5, 'nombre': 'CUADRES CONTABLES'}\n",
      "{'_id': ObjectId('6537ff35af7f3c7c40af6e7d'), 'T1': 6, 'nombre': 'DETALLE TÉCNICO'}\n"
     ]
    }
   ],
   "source": [
    "topics_n1_in_db_conta = list(db[\"TopicosN1Conta\"].find())\n",
    "for topic in topics_n1_in_db_conta:\n",
    "    print(topic)"
   ]
  },
  {
   "cell_type": "code",
   "execution_count": 8,
   "metadata": {},
   "outputs": [
    {
     "data": {
      "text/html": [
       "<div>\n",
       "<style scoped>\n",
       "    .dataframe tbody tr th:only-of-type {\n",
       "        vertical-align: middle;\n",
       "    }\n",
       "\n",
       "    .dataframe tbody tr th {\n",
       "        vertical-align: top;\n",
       "    }\n",
       "\n",
       "    .dataframe thead th {\n",
       "        text-align: right;\n",
       "    }\n",
       "</style>\n",
       "<table border=\"1\" class=\"dataframe\">\n",
       "  <thead>\n",
       "    <tr style=\"text-align: right;\">\n",
       "      <th></th>\n",
       "      <th>T1</th>\n",
       "      <th>T2</th>\n",
       "      <th>nombre</th>\n",
       "      <th>conceptos</th>\n",
       "      <th>definicion</th>\n",
       "      <th>imagen</th>\n",
       "    </tr>\n",
       "  </thead>\n",
       "  <tbody>\n",
       "    <tr>\n",
       "      <th>0</th>\n",
       "      <td>1</td>\n",
       "      <td>1</td>\n",
       "      <td>Principales conceptos de contabilidad en Pacif...</td>\n",
       "      <td>unico</td>\n",
       "      <td>Los principales conceptos de la contabilidad e...</td>\n",
       "      <td>no</td>\n",
       "    </tr>\n",
       "    <tr>\n",
       "      <th>1</th>\n",
       "      <td>1</td>\n",
       "      <td>2</td>\n",
       "      <td>Definiciones importantes</td>\n",
       "      <td>mutiple</td>\n",
       "      <td>A continuacion tenemos algunas definiciones im...</td>\n",
       "      <td>no</td>\n",
       "    </tr>\n",
       "    <tr>\n",
       "      <th>2</th>\n",
       "      <td>1</td>\n",
       "      <td>3</td>\n",
       "      <td>Ejemplo de contabilidad en Pacifico</td>\n",
       "      <td>unico</td>\n",
       "      <td>La cuenta contable de \"Caja\" se utiliza para a...</td>\n",
       "      <td>no</td>\n",
       "    </tr>\n",
       "    <tr>\n",
       "      <th>3</th>\n",
       "      <td>2</td>\n",
       "      <td>1</td>\n",
       "      <td>Definición de cuenta contable</td>\n",
       "      <td>unico</td>\n",
       "      <td>Es un registro específico dentro del sistema c...</td>\n",
       "      <td>no</td>\n",
       "    </tr>\n",
       "    <tr>\n",
       "      <th>4</th>\n",
       "      <td>2</td>\n",
       "      <td>2</td>\n",
       "      <td>Características de las cuentas contables</td>\n",
       "      <td>unico</td>\n",
       "      <td>Cada cuenta contable tiene un nombre y un núme...</td>\n",
       "      <td>no</td>\n",
       "    </tr>\n",
       "  </tbody>\n",
       "</table>\n",
       "</div>"
      ],
      "text/plain": [
       "   T1  T2                                             nombre conceptos  \\\n",
       "0   1   1  Principales conceptos de contabilidad en Pacif...     unico   \n",
       "1   1   2                           Definiciones importantes   mutiple   \n",
       "2   1   3                Ejemplo de contabilidad en Pacifico     unico   \n",
       "3   2   1                      Definición de cuenta contable     unico   \n",
       "4   2   2           Características de las cuentas contables     unico   \n",
       "\n",
       "                                          definicion imagen  \n",
       "0  Los principales conceptos de la contabilidad e...     no  \n",
       "1  A continuacion tenemos algunas definiciones im...     no  \n",
       "2  La cuenta contable de \"Caja\" se utiliza para a...     no  \n",
       "3  Es un registro específico dentro del sistema c...     no  \n",
       "4  Cada cuenta contable tiene un nombre y un núme...     no  "
      ]
     },
     "execution_count": 8,
     "metadata": {},
     "output_type": "execute_result"
    }
   ],
   "source": [
    "topics_n2_conta.head()"
   ]
  },
  {
   "cell_type": "code",
   "execution_count": 9,
   "metadata": {},
   "outputs": [],
   "source": [
    "data_list = []\n",
    "for topicn1 in topics_n1_in_db_conta:\n",
    "    topic_n1_data  = topics_n2_conta[topics_n2_conta[\"T1\"]==topicn1[\"T1\"]]\n",
    "    \n",
    "    for  i in range(len(topic_n1_data)):\n",
    "        topic_n2_data = topic_n1_data.iloc[i].to_dict()\n",
    "        topic_n2_data[\"T1\"] = topicn1[\"_id\"]\n",
    "        data_list.append(topic_n2_data)"
   ]
  },
  {
   "cell_type": "code",
   "execution_count": 10,
   "metadata": {},
   "outputs": [
    {
     "data": {
      "text/plain": [
       "<pymongo.results.InsertManyResult at 0x7f4796c31240>"
      ]
     },
     "execution_count": 10,
     "metadata": {},
     "output_type": "execute_result"
    }
   ],
   "source": [
    "collection = db[\"TopicosN2Conta\"]\n",
    "collection.insert_many(data_list)"
   ]
  },
  {
   "cell_type": "code",
   "execution_count": 11,
   "metadata": {},
   "outputs": [
    {
     "name": "stdout",
     "output_type": "stream",
     "text": [
      "{'_id': ObjectId('6537ff40af7f3c7c40af6e7e'), 'T1': ObjectId('6537ff35af7f3c7c40af6e78'), 'T2': 1, 'nombre': 'Principales conceptos de contabilidad en Pacifico ', 'conceptos': 'unico', 'definicion': 'Los principales conceptos de la contabilidad en Pacifico son los siguientes: \\nConceptos generales\\n    - Activo \\n    - Pasivo \\n    - Cuenta Contable \\n    - Debe \\n    - Haber\\n    - Principio de partida doble \\n    - finanzas\\n    - Asiento Contable\\n    - Cuadre Contable\\n    - Mallas Contables\\nConceptos tecnicos \\n    - Tablas Temporales\\n    - Tablas Históricas\\n    - Tablas Definitivas\\n    - Tablas Maestras\\n    - Tablas de Error', 'imagen': 'no'}\n",
      "{'_id': ObjectId('6537ff40af7f3c7c40af6e7f'), 'T1': ObjectId('6537ff35af7f3c7c40af6e78'), 'T2': 2, 'nombre': 'Definiciones importantes', 'conceptos': 'mutiple', 'definicion': 'A continuacion tenemos algunas definiciones importantes respecto a la contabilidad en Pacifico.', 'imagen': 'no'}\n",
      "{'_id': ObjectId('6537ff40af7f3c7c40af6e80'), 'T1': ObjectId('6537ff35af7f3c7c40af6e78'), 'T2': 3, 'nombre': 'Ejemplo de contabilidad en Pacifico', 'conceptos': 'unico', 'definicion': 'La cuenta contable de\\xa0\"Caja\"\\xa0se utiliza para almacenar los\\xa0registros financieros relacionados con el efectivo físico. Esta cuenta\\xa0se clasifica como un\\xa0activo.\\u200b A medida que ocurren transacciones relacionadas con el efectivo, se registran en la cuenta contable \"Caja\".\\u200b Por ejemplo:\\u200b Si Pacifico recibe un efectivo por el cobro de una póliza, se registra un aumento en la cuenta \"Caja\" en el \"Debe\" y una disminución en la cuenta de \"Ventas\" en el \"Haber\".\\u200b Si Pacifico realiza un Pago en efectivo para comprar suministros, se registra una disminución en la cuenta \"Caja\" en el \"Haber\" y un aumento en la cuenta de \"Gastos de Suministros\" en el \"Debe\".\\u200b Si Pacífico recibe efectivo por el cobro de una cuenta por cobrar, se registra un aumento en la cuenta \"Caja\" en el \"Debe\" y una disminución en la cuenta de \"Cuentas por Cobrar\" en el \"Haber\".', 'imagen': 'no'}\n",
      "{'_id': ObjectId('6537ff40af7f3c7c40af6e81'), 'T1': ObjectId('6537ff35af7f3c7c40af6e79'), 'T2': 1, 'nombre': 'Definición de cuenta contable', 'conceptos': 'unico', 'definicion': 'Es un registro específico dentro del sistema contable utilizado\\xa0para almacenar y seguir información financiera relacionada\\xa0con un elemento o categoría particular en una entidad.\\u200b', 'imagen': 'no'}\n",
      "{'_id': ObjectId('6537ff40af7f3c7c40af6e82'), 'T1': ObjectId('6537ff35af7f3c7c40af6e79'), 'T2': 2, 'nombre': 'Características de las cuentas contables', 'conceptos': 'unico', 'definicion': 'Cada cuenta contable tiene un nombre y un número de identificación único.\\xa0Tiene un nombre descriptivo que refleja su naturaleza y\\xa0función dentro del sistema contable\\xa0Registran los movimientos, es decir, las transacciones financieras que afectan a la cuenta.\\xa0Estos\\xa0movimientos se registran mediante asientos contables, reflejando los débitos y créditos correspondientes.\\xa0De acuerdo a su naturaleza\\xa0se asigna en él Debe (Cargo) o en el Haber (Abono).', 'imagen': 'no'}\n",
      "{'_id': ObjectId('6537ff40af7f3c7c40af6e83'), 'T1': ObjectId('6537ff35af7f3c7c40af6e79'), 'T2': 3, 'nombre': 'Plan de Cuentas', 'conceptos': 'unico', 'definicion': 'Es una estructura organizada y jerárquica que establece las\\xa0cuentas\\xa0contables utilizadas por una empresa para clasificar y\\xa0registrar sus\\xa0transacciones financieras. Una cuenta contable puede tener sub\\xa0cuentas que van de lo\\xa0más general hasta lo más específico.', 'imagen': 'no'}\n",
      "{'_id': ObjectId('6537ff40af7f3c7c40af6e84'), 'T1': ObjectId('6537ff35af7f3c7c40af6e79'), 'T2': 4, 'nombre': 'Principales Cuentas Contables', 'conceptos': 'unico', 'definicion': 'A continuacion te presentamos una imagen de las principales cuentas contables', 'imagen': '2-4.png'}\n",
      "{'_id': ObjectId('6537ff40af7f3c7c40af6e85'), 'T1': ObjectId('6537ff35af7f3c7c40af6e79'), 'T2': 5, 'nombre': 'Cuentas Contables en AcselX', 'conceptos': 'unico', 'definicion': 'A continucación te presentamos una imagen de las cuentas contables en AcselX', 'imagen': '2-5.png'}\n",
      "{'_id': ObjectId('6537ff40af7f3c7c40af6e86'), 'T1': ObjectId('6537ff35af7f3c7c40af6e7a'), 'T2': 1, 'nombre': 'Definicion de malla contable', 'conceptos': 'unico', 'definicion': 'Este no es un concepto propio de Contabilidad, sin\\xa0embargo\\xa0lo\\xa0utiliza Pacifico para hacer referencia a las conjugaciones de los\\xa0diferentes tipos de cuentas contables que tiene cada negocio. Es\\xa0decir\\xa0es la configuración de todas las posibles cuentas contables.\\u200b', 'imagen': 'no'}\n",
      "{'_id': ObjectId('6537ff40af7f3c7c40af6e87'), 'T1': ObjectId('6537ff35af7f3c7c40af6e7a'), 'T2': 2, 'nombre': 'Características de las mallas contables', 'conceptos': 'unico', 'definicion': 'Este no es un concepto propio de contabilidad ni finanzas.\\xa0Almacenan la configuración de todas las\\xa0cuentas y subcuentas contables.\\xa0Almacena las cuentas contables desde la general hasta la específica.\\xa0Estas configuraciones son gobernadas por el equipo de Contabilidad. En caso se desee agregar una\\xa0cuenta Contable nueva, se debe crear en esta configuración.\\xa0El mantenimiento de las mallas contables\\xa0se realizan\\xa0a través de\\xa0AcselX.', 'imagen': 'no'}\n",
      "{'_id': ObjectId('6537ff40af7f3c7c40af6e88'), 'T1': ObjectId('6537ff35af7f3c7c40af6e7a'), 'T2': 3, 'nombre': 'Atributos', 'conceptos': 'multiple', 'definicion': 'A continuacion te presentamos los principales atributos de las mallas contables de Pacifico', 'imagen': '3-3.png'}\n",
      "{'_id': ObjectId('6537ff40af7f3c7c40af6e89'), 'T1': ObjectId('6537ff35af7f3c7c40af6e7a'), 'T2': 4, 'nombre': 'Asiento Contable.', 'conceptos': 'multiple', 'definicion': '\\u200bA continuacion tenemos una definicion de asiento contable y una imagen con los principales asientos contables de Pacifico.', 'imagen': 'no'}\n",
      "{'_id': ObjectId('6537ff40af7f3c7c40af6e8a'), 'T1': ObjectId('6537ff35af7f3c7c40af6e7b'), 'T2': 1, 'nombre': 'Características de origen de la información', 'conceptos': 'unico', 'definicion': 'El origen de información en un registro de una transacción de un proceso previo a la contabilidad. Es el punto de partida para generar la\\xa0Contabilidad.\\xa0Todo proceso Contable parte de sus registros transaccionales.\\xa0Cada tipo de Operación o Asiento contable cuenta con un\\xa0origen de información distinto.\\xa0Este origen de información suele ser el sustento para posteriormente cuadrar vs la contabilidad.\\u200b', 'imagen': 'no'}\n",
      "{'_id': ObjectId('6537ff40af7f3c7c40af6e8b'), 'T1': ObjectId('6537ff35af7f3c7c40af6e7b'), 'T2': 2, 'nombre': 'Ejemplos de Origen de Información', 'conceptos': 'unico', 'definicion': 'La siguiente imagen contiene ejemplos de origen de la información en Pacifico.', 'imagen': '4-2.png'}\n",
      "{'_id': ObjectId('6537ff40af7f3c7c40af6e8c'), 'T1': ObjectId('6537ff35af7f3c7c40af6e7c'), 'T2': 1, 'nombre': 'Definicion de cuadre contable', 'conceptos': 'unico', 'definicion': 'Pacifico realiza 2 tipos de Cuadres Contables:\\xa0Del Asiento:\\xa0Se\\xa0refiere a la verificación de que los registros contables estén en\\xa0equilibrio entre debe y haber.\\xa0Contra el Sustento:\\xa0Es la\\xa0verificación que las cuentas totales de un asiento coincidan con\\xa0los reportes de sustento.\\u200b', 'imagen': 'no'}\n",
      "{'_id': ObjectId('6537ff40af7f3c7c40af6e8d'), 'T1': ObjectId('6537ff35af7f3c7c40af6e7c'), 'T2': 2, 'nombre': 'Características de los cuadres contables', 'conceptos': 'unico', 'definicion': 'Es el ejercicio que realiza Contabilidad para Cuadrar un Asiento Contable.\\xa0Contabilidad realiza esta actividad en el Cierre de Mes, luego\\xa0que el equipo de Cierre entrega los asientos.\\xa0Contabilidad valida primero que él Debe con el Haber de un asiento estén\\xa0Cuadrados.\\xa0Posteriormente valida que el Asiento contable cuadre contra los reportes de Sustento.\\xa0Cualquier descuadre identificado lo\\xa0reporta Contabilidad y lo revisa el equipo de Cierre.\\xa0Cuna\\xa0vez que contabilidad cuadró los asientos de manera satisfactoria los carga al\\xa0sistema EXACTUS.', 'imagen': 'no'}\n",
      "{'_id': ObjectId('6537ff40af7f3c7c40af6e8e'), 'T1': ObjectId('6537ff35af7f3c7c40af6e7c'), 'T2': 3, 'nombre': 'Ejemplos de cuadres', 'conceptos': 'multiple', 'definicion': 'Las siguientes imagenes contienen ejemplos de los cuadres de caja en Pacifico', 'imagen': 'no'}\n",
      "{'_id': ObjectId('6537ff40af7f3c7c40af6e8f'), 'T1': ObjectId('6537ff35af7f3c7c40af6e7d'), 'T2': 1, 'nombre': 'Tablas Temporales', 'conceptos': 'unico', 'definicion': 'Tabla transaccional contable donde se\\xa0almacena la información diaria de la\\xa0contabilidad (esta tabla se depura diariamente\\xa0a través del Cierre Diario de\\xa0AcsleX).\\xa0Tabla\\xa0temporal para genera la contabilidad\\xa0Definitiva.', 'imagen': '6-1.png'}\n",
      "{'_id': ObjectId('6537ff40af7f3c7c40af6e90'), 'T1': ObjectId('6537ff35af7f3c7c40af6e7d'), 'T2': 2, 'nombre': 'Tabla Históricas', 'conceptos': 'unico', 'definicion': 'Tablas transaccional\\xa0donde se pobla\\xa0diariamente la información de las tablas\\xa0temporales y se almacenan de manera\\xa0histórica.\\u200b', 'imagen': '6-2.png'}\n",
      "{'_id': ObjectId('6537ff40af7f3c7c40af6e91'), 'T1': ObjectId('6537ff35af7f3c7c40af6e7d'), 'T2': 3, 'nombre': 'Tabla Definitivas', 'conceptos': 'unico', 'definicion': 'Tablas donde se agrupa la información\\xa0resumida por fecha, moneda, cuenta contable,\\xa0tipo de movimiento y asiento contable. (Esta\\xa0tabla es poblada generalmente en los cierres)\\u200b', 'imagen': '6-3.png'}\n",
      "{'_id': ObjectId('6537ff40af7f3c7c40af6e92'), 'T1': ObjectId('6537ff35af7f3c7c40af6e7d'), 'T2': 4, 'nombre': 'Tablas Maestras', 'conceptos': 'unico', 'definicion': 'Tablas donde se almacenan las mallas\\xa0contables de acuerdo a un negocio en\\xa0específico\\xa0así como las descripciones de cada\\xa0cuenta contable.\\u200b', 'imagen': '6-4.png'}\n",
      "{'_id': ObjectId('6537ff40af7f3c7c40af6e93'), 'T1': ObjectId('6537ff35af7f3c7c40af6e7d'), 'T2': 5, 'nombre': 'Tablas de Error', 'conceptos': 'unico', 'definicion': 'Tablas donde se almacena la contabilidad con\\xa0error.\\u200b', 'imagen': '6-5.png'}\n"
     ]
    }
   ],
   "source": [
    "topics_n2_in_db_conta = list(db[\"TopicosN2Conta\"].find())\n",
    "for topic in topics_n2_in_db_conta:\n",
    "    print(topic)"
   ]
  },
  {
   "cell_type": "code",
   "execution_count": 12,
   "metadata": {},
   "outputs": [
    {
     "data": {
      "text/html": [
       "<div>\n",
       "<style scoped>\n",
       "    .dataframe tbody tr th:only-of-type {\n",
       "        vertical-align: middle;\n",
       "    }\n",
       "\n",
       "    .dataframe tbody tr th {\n",
       "        vertical-align: top;\n",
       "    }\n",
       "\n",
       "    .dataframe thead th {\n",
       "        text-align: right;\n",
       "    }\n",
       "</style>\n",
       "<table border=\"1\" class=\"dataframe\">\n",
       "  <thead>\n",
       "    <tr style=\"text-align: right;\">\n",
       "      <th></th>\n",
       "      <th>T1</th>\n",
       "      <th>T2</th>\n",
       "      <th>T3</th>\n",
       "      <th>nombre</th>\n",
       "      <th>definicion</th>\n",
       "      <th>imagen</th>\n",
       "    </tr>\n",
       "  </thead>\n",
       "  <tbody>\n",
       "    <tr>\n",
       "      <th>0</th>\n",
       "      <td>1</td>\n",
       "      <td>2</td>\n",
       "      <td>1</td>\n",
       "      <td>Activo</td>\n",
       "      <td>Recursos económicos y financieros controlados ...</td>\n",
       "      <td>no</td>\n",
       "    </tr>\n",
       "    <tr>\n",
       "      <th>1</th>\n",
       "      <td>1</td>\n",
       "      <td>2</td>\n",
       "      <td>2</td>\n",
       "      <td>Pasivo</td>\n",
       "      <td>Obligaciones económicas y financieras de una e...</td>\n",
       "      <td>no</td>\n",
       "    </tr>\n",
       "    <tr>\n",
       "      <th>2</th>\n",
       "      <td>1</td>\n",
       "      <td>2</td>\n",
       "      <td>3</td>\n",
       "      <td>Debe</td>\n",
       "      <td>Representa el lado izquierdo de una cuenta con...</td>\n",
       "      <td>no</td>\n",
       "    </tr>\n",
       "    <tr>\n",
       "      <th>3</th>\n",
       "      <td>1</td>\n",
       "      <td>2</td>\n",
       "      <td>4</td>\n",
       "      <td>Haber</td>\n",
       "      <td>Representa el lado derecho de una cuenta conta...</td>\n",
       "      <td>no</td>\n",
       "    </tr>\n",
       "    <tr>\n",
       "      <th>4</th>\n",
       "      <td>1</td>\n",
       "      <td>2</td>\n",
       "      <td>5</td>\n",
       "      <td>Principio de partida doble</td>\n",
       "      <td>Cada transacción contable afecta al menos dos ...</td>\n",
       "      <td>no</td>\n",
       "    </tr>\n",
       "  </tbody>\n",
       "</table>\n",
       "</div>"
      ],
      "text/plain": [
       "   T1  T2  T3                      nombre  \\\n",
       "0   1   2   1                      Activo   \n",
       "1   1   2   2                      Pasivo   \n",
       "2   1   2   3                        Debe   \n",
       "3   1   2   4                       Haber   \n",
       "4   1   2   5  Principio de partida doble   \n",
       "\n",
       "                                          definicion imagen  \n",
       "0  Recursos económicos y financieros controlados ...     no  \n",
       "1  Obligaciones económicas y financieras de una e...     no  \n",
       "2  Representa el lado izquierdo de una cuenta con...     no  \n",
       "3  Representa el lado derecho de una cuenta conta...     no  \n",
       "4  Cada transacción contable afecta al menos dos ...     no  "
      ]
     },
     "execution_count": 12,
     "metadata": {},
     "output_type": "execute_result"
    }
   ],
   "source": [
    "topics_n3_conta.head()"
   ]
  },
  {
   "cell_type": "code",
   "execution_count": 13,
   "metadata": {},
   "outputs": [],
   "source": [
    "data_list = []\n",
    "for topicn2 in topics_n2_in_db_conta:\n",
    "    topic_n2_data  = topics_n3_conta[topics_n3_conta[\"T2\"]==topicn2[\"T2\"]]\n",
    "    \n",
    "    for  i in range(len(topic_n2_data)):\n",
    "        topic_n3_data = topic_n2_data.iloc[i].to_dict()\n",
    "        del topic_n3_data[\"T1\"]\n",
    "        topic_n3_data[\"T2\"] = topicn2[\"_id\"]\n",
    "        data_list.append(topic_n3_data)"
   ]
  },
  {
   "cell_type": "code",
   "execution_count": 14,
   "metadata": {},
   "outputs": [
    {
     "data": {
      "text/plain": [
       "<pymongo.results.InsertManyResult at 0x7f4796af2290>"
      ]
     },
     "execution_count": 14,
     "metadata": {},
     "output_type": "execute_result"
    }
   ],
   "source": [
    "collection = db[\"TopicosN3Conta\"]\n",
    "collection.insert_many(data_list)"
   ]
  },
  {
   "cell_type": "code",
   "execution_count": 15,
   "metadata": {},
   "outputs": [
    {
     "name": "stdout",
     "output_type": "stream",
     "text": [
      "{'_id': ObjectId('6537ff42af7f3c7c40af6e94'), 'T2': ObjectId('6537ff40af7f3c7c40af6e7f'), 'T3': 1, 'nombre': 'Activo', 'definicion': 'Recursos económicos y financieros controlados por una\\xa0entidad, que se espera que generen beneficios futuros.\\u200b', 'imagen': 'no'}\n",
      "{'_id': ObjectId('6537ff42af7f3c7c40af6e95'), 'T2': ObjectId('6537ff40af7f3c7c40af6e7f'), 'T3': 2, 'nombre': 'Pasivo', 'definicion': 'Obligaciones económicas y financieras de una entidad\\xa0que deben ser liquidadas en el futuro, generalmente en\\xa0forma de pagos de dinero.\\u200b', 'imagen': 'no'}\n",
      "{'_id': ObjectId('6537ff42af7f3c7c40af6e96'), 'T2': ObjectId('6537ff40af7f3c7c40af6e7f'), 'T3': 3, 'nombre': 'Debe', 'definicion': 'Representa el lado izquierdo de una cuenta contable,\\xa0registra\\xa0los valores que ingresan a una cuenta o que salen de una\\xa0cuenta de manera negativa.\\u200b', 'imagen': 'no'}\n",
      "{'_id': ObjectId('6537ff42af7f3c7c40af6e97'), 'T2': ObjectId('6537ff40af7f3c7c40af6e7f'), 'T3': 4, 'nombre': 'Haber', 'definicion': 'Representa el lado derecho de una cuenta contable,\\xa0registra\\xa0los valores que salen de una cuenta o que ingresan a una\\xa0cuenta de manera positiva.\\u200b', 'imagen': 'no'}\n",
      "{'_id': ObjectId('6537ff42af7f3c7c40af6e98'), 'T2': ObjectId('6537ff40af7f3c7c40af6e7f'), 'T3': 5, 'nombre': 'Principio de partida doble', 'definicion': 'Cada transacción contable afecta al menos dos cuentas\\xa0contables siguiendo el principio de la partida doble: un\\xa0registro en el \"Debe\" de una cuenta y un registro en el\\xa0\"Haber\" de otra cuenta.\\u200b', 'imagen': 'no'}\n",
      "{'_id': ObjectId('6537ff42af7f3c7c40af6e99'), 'T2': ObjectId('6537ff40af7f3c7c40af6e7f'), 'T3': 6, 'nombre': 'Finanzas', 'definicion': 'Si bien la contabilidad y las finanzas están estrechamente relacionadas, la contabilidad se centra más en el registro y la presentación sistemática \\nde la información financiera, mientras que las finanzas abarcan un campo más amplio que implica la gestión y el análisis de los recursos\\nfinancieros de una empresa, incluyendo la toma de decisiones de inversión, financiamiento, gestión del riesgo, entre otros aspectos.\\u200b\\n\\nEn resumen, aunque los conceptos de contabilidad y finanzas están interrelacionados, el concepto de asiento contable es específico de la contabilidad y se utiliza para registrar y documentar transacciones financieras en el sistema contable de una empresa.\\u200b', 'imagen': 'no'}\n",
      "{'_id': ObjectId('6537ff42af7f3c7c40af6e9a'), 'T2': ObjectId('6537ff40af7f3c7c40af6e80'), 'T3': 1, 'nombre': 'Código de Compañía', 'definicion': 'Código identificador de Pacifico Seguros, también llamado CODCIA, siempre es 01.\\u200b', 'imagen': 'no'}\n",
      "{'_id': ObjectId('6537ff42af7f3c7c40af6e9b'), 'T2': ObjectId('6537ff40af7f3c7c40af6e80'), 'T3': 2, 'nombre': 'Código de Operación', 'definicion': 'Identificador de las Operaciones de un Proceso en específico.\\xa0Ejm:\\xa0105 – Contabilidad de Ingresos\\u200b', 'imagen': 'no'}\n",
      "{'_id': ObjectId('6537ff42af7f3c7c40af6e9c'), 'T2': ObjectId('6537ff40af7f3c7c40af6e80'), 'T3': 3, 'nombre': 'Código de grupo de Concepto', 'definicion': 'Código que agrupan varios conceptos en común.\\xa0Ejm:\\xa0FORPAG (Formas de Pago)\\u200b', 'imagen': 'no'}\n",
      "{'_id': ObjectId('6537ff42af7f3c7c40af6e9d'), 'T2': ObjectId('6537ff40af7f3c7c40af6e80'), 'T3': 4, 'nombre': 'Código de Concepto.', 'definicion': 'Código de un Concepto de un específico.\\xa0Ejm:\\xa0NDB (Nota de Debido), NCR (Nota de Crédito)\\u200b', 'imagen': 'no'}\n",
      "{'_id': ObjectId('6537ff42af7f3c7c40af6e9e'), 'T2': ObjectId('6537ff40af7f3c7c40af6e80'), 'T3': 5, 'nombre': 'Número de Cuenta Contable', 'definicion': 'Número de Cuentas y subcuentas contables, se compone de 06 cuentas.\\u200b', 'imagen': 'no'}\n",
      "{'_id': ObjectId('6537ff42af7f3c7c40af6e9f'), 'T2': ObjectId('6537ff40af7f3c7c40af6e80'), 'T3': 6, 'nombre': 'Naturaleza de Cuenta Contable', 'definicion': 'Especifica si es una cuenta de Débito (D) o Crédito (C).\\u200b', 'imagen': 'no'}\n",
      "{'_id': ObjectId('6537ff42af7f3c7c40af6ea0'), 'T2': ObjectId('6537ff40af7f3c7c40af6e80'), 'T3': 7, 'nombre': 'Identificador de Cuenta', 'definicion': 'Es el concatenado del código de Compañía + el número de Cuenta.\\u200b', 'imagen': 'no'}\n",
      "{'_id': ObjectId('6537ff42af7f3c7c40af6ea1'), 'T2': ObjectId('6537ff40af7f3c7c40af6e80'), 'T3': 8, 'nombre': 'Código de Ramo', 'definicion': 'Especifica el ramo al que afecta dicha cuenta, generalmente es un número de código de cuenta', 'imagen': 'no'}\n",
      "{'_id': ObjectId('6537ff42af7f3c7c40af6ea2'), 'T2': ObjectId('6537ff40af7f3c7c40af6e80'), 'T3': 9, 'nombre': 'Identificador de Prima / Comisión', 'definicion': 'Especifica si es una Cuenta de Prima o Comisión.\\u200b', 'imagen': 'no'}\n",
      "{'_id': ObjectId('6537ff42af7f3c7c40af6ea3'), 'T2': ObjectId('6537ff40af7f3c7c40af6e80'), 'T3': 10, 'nombre': 'Riesgo Contable', 'definicion': 'Especifica el Código de Riesgo Contable, del ramo, normado por la SBS al que afecta dicha cuenta,\\xa0generalmente es un número de código de cuenta.', 'imagen': 'no'}\n",
      "{'_id': ObjectId('6537ff42af7f3c7c40af6ea4'), 'T2': ObjectId('6537ff40af7f3c7c40af6e80'), 'T3': 11, 'nombre': 'Identificador de tipo Riesgo Contable', 'definicion': 'Especifica si el riesgo contable es un Riesgo Agrupado (A) o Detallad (D).\\u200b', 'imagen': 'no'}\n",
      "{'_id': ObjectId('6537ff42af7f3c7c40af6ea5'), 'T2': ObjectId('6537ff40af7f3c7c40af6e80'), 'T3': 12, 'nombre': 'Código de Mercado', 'definicion': 'Especifica el tipo de mercado al que afecta dicha cuenta, generalmente es un número de código de\\xa0cuenta. Estos pueden ser: Afiliada, Exterior o Local.\\u200b', 'imagen': 'no'}\n",
      "{'_id': ObjectId('6537ff42af7f3c7c40af6ea6'), 'T2': ObjectId('6537ff40af7f3c7c40af6e80'), 'T3': 1, 'nombre': 'Cuadre de Caja', 'definicion': 'La siguiente imagen contiene un ejemple de cuadre de caja', 'imagen': '5-3-1.png'}\n",
      "{'_id': ObjectId('6537ff42af7f3c7c40af6ea7'), 'T2': ObjectId('6537ff40af7f3c7c40af6e80'), 'T3': 2, 'nombre': 'Cuadre de Siniestros', 'definicion': 'La siguiente imagen contiene un ejemplo de cuadre de siniestros', 'imagen': '5-3-2.png'}\n",
      "{'_id': ObjectId('6537ff42af7f3c7c40af6ea8'), 'T2': ObjectId('6537ff40af7f3c7c40af6e80'), 'T3': 3, 'nombre': 'Cuadre de Comisiones', 'definicion': 'La siguiente imagen contiene un ejemplo de cuadre de comisiones.', 'imagen': '5-3-3.png'}\n",
      "{'_id': ObjectId('6537ff42af7f3c7c40af6ea9'), 'T2': ObjectId('6537ff40af7f3c7c40af6e82'), 'T3': 1, 'nombre': 'Activo', 'definicion': 'Recursos económicos y financieros controlados por una\\xa0entidad, que se espera que generen beneficios futuros.\\u200b', 'imagen': 'no'}\n",
      "{'_id': ObjectId('6537ff42af7f3c7c40af6eaa'), 'T2': ObjectId('6537ff40af7f3c7c40af6e82'), 'T3': 2, 'nombre': 'Pasivo', 'definicion': 'Obligaciones económicas y financieras de una entidad\\xa0que deben ser liquidadas en el futuro, generalmente en\\xa0forma de pagos de dinero.\\u200b', 'imagen': 'no'}\n",
      "{'_id': ObjectId('6537ff42af7f3c7c40af6eab'), 'T2': ObjectId('6537ff40af7f3c7c40af6e82'), 'T3': 3, 'nombre': 'Debe', 'definicion': 'Representa el lado izquierdo de una cuenta contable,\\xa0registra\\xa0los valores que ingresan a una cuenta o que salen de una\\xa0cuenta de manera negativa.\\u200b', 'imagen': 'no'}\n",
      "{'_id': ObjectId('6537ff42af7f3c7c40af6eac'), 'T2': ObjectId('6537ff40af7f3c7c40af6e82'), 'T3': 4, 'nombre': 'Haber', 'definicion': 'Representa el lado derecho de una cuenta contable,\\xa0registra\\xa0los valores que salen de una cuenta o que ingresan a una\\xa0cuenta de manera positiva.\\u200b', 'imagen': 'no'}\n",
      "{'_id': ObjectId('6537ff42af7f3c7c40af6ead'), 'T2': ObjectId('6537ff40af7f3c7c40af6e82'), 'T3': 5, 'nombre': 'Principio de partida doble', 'definicion': 'Cada transacción contable afecta al menos dos cuentas\\xa0contables siguiendo el principio de la partida doble: un\\xa0registro en el \"Debe\" de una cuenta y un registro en el\\xa0\"Haber\" de otra cuenta.\\u200b', 'imagen': 'no'}\n",
      "{'_id': ObjectId('6537ff42af7f3c7c40af6eae'), 'T2': ObjectId('6537ff40af7f3c7c40af6e82'), 'T3': 6, 'nombre': 'Finanzas', 'definicion': 'Si bien la contabilidad y las finanzas están estrechamente relacionadas, la contabilidad se centra más en el registro y la presentación sistemática \\nde la información financiera, mientras que las finanzas abarcan un campo más amplio que implica la gestión y el análisis de los recursos\\nfinancieros de una empresa, incluyendo la toma de decisiones de inversión, financiamiento, gestión del riesgo, entre otros aspectos.\\u200b\\n\\nEn resumen, aunque los conceptos de contabilidad y finanzas están interrelacionados, el concepto de asiento contable es específico de la contabilidad y se utiliza para registrar y documentar transacciones financieras en el sistema contable de una empresa.\\u200b', 'imagen': 'no'}\n",
      "{'_id': ObjectId('6537ff42af7f3c7c40af6eaf'), 'T2': ObjectId('6537ff40af7f3c7c40af6e83'), 'T3': 1, 'nombre': 'Código de Compañía', 'definicion': 'Código identificador de Pacifico Seguros, también llamado CODCIA, siempre es 01.\\u200b', 'imagen': 'no'}\n",
      "{'_id': ObjectId('6537ff42af7f3c7c40af6eb0'), 'T2': ObjectId('6537ff40af7f3c7c40af6e83'), 'T3': 2, 'nombre': 'Código de Operación', 'definicion': 'Identificador de las Operaciones de un Proceso en específico.\\xa0Ejm:\\xa0105 – Contabilidad de Ingresos\\u200b', 'imagen': 'no'}\n",
      "{'_id': ObjectId('6537ff42af7f3c7c40af6eb1'), 'T2': ObjectId('6537ff40af7f3c7c40af6e83'), 'T3': 3, 'nombre': 'Código de grupo de Concepto', 'definicion': 'Código que agrupan varios conceptos en común.\\xa0Ejm:\\xa0FORPAG (Formas de Pago)\\u200b', 'imagen': 'no'}\n",
      "{'_id': ObjectId('6537ff42af7f3c7c40af6eb2'), 'T2': ObjectId('6537ff40af7f3c7c40af6e83'), 'T3': 4, 'nombre': 'Código de Concepto.', 'definicion': 'Código de un Concepto de un específico.\\xa0Ejm:\\xa0NDB (Nota de Debido), NCR (Nota de Crédito)\\u200b', 'imagen': 'no'}\n",
      "{'_id': ObjectId('6537ff42af7f3c7c40af6eb3'), 'T2': ObjectId('6537ff40af7f3c7c40af6e83'), 'T3': 5, 'nombre': 'Número de Cuenta Contable', 'definicion': 'Número de Cuentas y subcuentas contables, se compone de 06 cuentas.\\u200b', 'imagen': 'no'}\n",
      "{'_id': ObjectId('6537ff42af7f3c7c40af6eb4'), 'T2': ObjectId('6537ff40af7f3c7c40af6e83'), 'T3': 6, 'nombre': 'Naturaleza de Cuenta Contable', 'definicion': 'Especifica si es una cuenta de Débito (D) o Crédito (C).\\u200b', 'imagen': 'no'}\n",
      "{'_id': ObjectId('6537ff42af7f3c7c40af6eb5'), 'T2': ObjectId('6537ff40af7f3c7c40af6e83'), 'T3': 7, 'nombre': 'Identificador de Cuenta', 'definicion': 'Es el concatenado del código de Compañía + el número de Cuenta.\\u200b', 'imagen': 'no'}\n",
      "{'_id': ObjectId('6537ff42af7f3c7c40af6eb6'), 'T2': ObjectId('6537ff40af7f3c7c40af6e83'), 'T3': 8, 'nombre': 'Código de Ramo', 'definicion': 'Especifica el ramo al que afecta dicha cuenta, generalmente es un número de código de cuenta', 'imagen': 'no'}\n",
      "{'_id': ObjectId('6537ff42af7f3c7c40af6eb7'), 'T2': ObjectId('6537ff40af7f3c7c40af6e83'), 'T3': 9, 'nombre': 'Identificador de Prima / Comisión', 'definicion': 'Especifica si es una Cuenta de Prima o Comisión.\\u200b', 'imagen': 'no'}\n",
      "{'_id': ObjectId('6537ff42af7f3c7c40af6eb8'), 'T2': ObjectId('6537ff40af7f3c7c40af6e83'), 'T3': 10, 'nombre': 'Riesgo Contable', 'definicion': 'Especifica el Código de Riesgo Contable, del ramo, normado por la SBS al que afecta dicha cuenta,\\xa0generalmente es un número de código de cuenta.', 'imagen': 'no'}\n",
      "{'_id': ObjectId('6537ff42af7f3c7c40af6eb9'), 'T2': ObjectId('6537ff40af7f3c7c40af6e83'), 'T3': 11, 'nombre': 'Identificador de tipo Riesgo Contable', 'definicion': 'Especifica si el riesgo contable es un Riesgo Agrupado (A) o Detallad (D).\\u200b', 'imagen': 'no'}\n",
      "{'_id': ObjectId('6537ff42af7f3c7c40af6eba'), 'T2': ObjectId('6537ff40af7f3c7c40af6e83'), 'T3': 12, 'nombre': 'Código de Mercado', 'definicion': 'Especifica el tipo de mercado al que afecta dicha cuenta, generalmente es un número de código de\\xa0cuenta. Estos pueden ser: Afiliada, Exterior o Local.\\u200b', 'imagen': 'no'}\n",
      "{'_id': ObjectId('6537ff42af7f3c7c40af6ebb'), 'T2': ObjectId('6537ff40af7f3c7c40af6e83'), 'T3': 1, 'nombre': 'Cuadre de Caja', 'definicion': 'La siguiente imagen contiene un ejemple de cuadre de caja', 'imagen': '5-3-1.png'}\n",
      "{'_id': ObjectId('6537ff42af7f3c7c40af6ebc'), 'T2': ObjectId('6537ff40af7f3c7c40af6e83'), 'T3': 2, 'nombre': 'Cuadre de Siniestros', 'definicion': 'La siguiente imagen contiene un ejemplo de cuadre de siniestros', 'imagen': '5-3-2.png'}\n",
      "{'_id': ObjectId('6537ff42af7f3c7c40af6ebd'), 'T2': ObjectId('6537ff40af7f3c7c40af6e83'), 'T3': 3, 'nombre': 'Cuadre de Comisiones', 'definicion': 'La siguiente imagen contiene un ejemplo de cuadre de comisiones.', 'imagen': '5-3-3.png'}\n",
      "{'_id': ObjectId('6537ff42af7f3c7c40af6ebe'), 'T2': ObjectId('6537ff40af7f3c7c40af6e84'), 'T3': 1, 'nombre': 'Definicion de asiento contable', 'definicion': '\\u200b\\n\\nEl asiento contable es asignado de acuerdo al Código de Operación. Un asiento contable este asignado a un número de un tipo de contabilidad en específico. Un asiento contable contiene diversas cuentas contables. Los asientos contables deben tener un Debe y un Haber y cuadrar entre ellos. Existe el Asiento Contable Transaccional y Definitivo.', 'imagen': 'no'}\n",
      "{'_id': ObjectId('6537ff42af7f3c7c40af6ebf'), 'T2': ObjectId('6537ff40af7f3c7c40af6e84'), 'T3': 2, 'nombre': 'Principales Asientos Contables', 'definicion': 'La siguiente imagen contiene los principales asientos contables de Pacifico.', 'imagen': '3-4-2.png'}\n",
      "{'_id': ObjectId('6537ff42af7f3c7c40af6ec0'), 'T2': ObjectId('6537ff40af7f3c7c40af6e87'), 'T3': 1, 'nombre': 'Activo', 'definicion': 'Recursos económicos y financieros controlados por una\\xa0entidad, que se espera que generen beneficios futuros.\\u200b', 'imagen': 'no'}\n",
      "{'_id': ObjectId('6537ff42af7f3c7c40af6ec1'), 'T2': ObjectId('6537ff40af7f3c7c40af6e87'), 'T3': 2, 'nombre': 'Pasivo', 'definicion': 'Obligaciones económicas y financieras de una entidad\\xa0que deben ser liquidadas en el futuro, generalmente en\\xa0forma de pagos de dinero.\\u200b', 'imagen': 'no'}\n",
      "{'_id': ObjectId('6537ff42af7f3c7c40af6ec2'), 'T2': ObjectId('6537ff40af7f3c7c40af6e87'), 'T3': 3, 'nombre': 'Debe', 'definicion': 'Representa el lado izquierdo de una cuenta contable,\\xa0registra\\xa0los valores que ingresan a una cuenta o que salen de una\\xa0cuenta de manera negativa.\\u200b', 'imagen': 'no'}\n",
      "{'_id': ObjectId('6537ff42af7f3c7c40af6ec3'), 'T2': ObjectId('6537ff40af7f3c7c40af6e87'), 'T3': 4, 'nombre': 'Haber', 'definicion': 'Representa el lado derecho de una cuenta contable,\\xa0registra\\xa0los valores que salen de una cuenta o que ingresan a una\\xa0cuenta de manera positiva.\\u200b', 'imagen': 'no'}\n",
      "{'_id': ObjectId('6537ff42af7f3c7c40af6ec4'), 'T2': ObjectId('6537ff40af7f3c7c40af6e87'), 'T3': 5, 'nombre': 'Principio de partida doble', 'definicion': 'Cada transacción contable afecta al menos dos cuentas\\xa0contables siguiendo el principio de la partida doble: un\\xa0registro en el \"Debe\" de una cuenta y un registro en el\\xa0\"Haber\" de otra cuenta.\\u200b', 'imagen': 'no'}\n",
      "{'_id': ObjectId('6537ff42af7f3c7c40af6ec5'), 'T2': ObjectId('6537ff40af7f3c7c40af6e87'), 'T3': 6, 'nombre': 'Finanzas', 'definicion': 'Si bien la contabilidad y las finanzas están estrechamente relacionadas, la contabilidad se centra más en el registro y la presentación sistemática \\nde la información financiera, mientras que las finanzas abarcan un campo más amplio que implica la gestión y el análisis de los recursos\\nfinancieros de una empresa, incluyendo la toma de decisiones de inversión, financiamiento, gestión del riesgo, entre otros aspectos.\\u200b\\n\\nEn resumen, aunque los conceptos de contabilidad y finanzas están interrelacionados, el concepto de asiento contable es específico de la contabilidad y se utiliza para registrar y documentar transacciones financieras en el sistema contable de una empresa.\\u200b', 'imagen': 'no'}\n",
      "{'_id': ObjectId('6537ff42af7f3c7c40af6ec6'), 'T2': ObjectId('6537ff40af7f3c7c40af6e88'), 'T3': 1, 'nombre': 'Código de Compañía', 'definicion': 'Código identificador de Pacifico Seguros, también llamado CODCIA, siempre es 01.\\u200b', 'imagen': 'no'}\n",
      "{'_id': ObjectId('6537ff42af7f3c7c40af6ec7'), 'T2': ObjectId('6537ff40af7f3c7c40af6e88'), 'T3': 2, 'nombre': 'Código de Operación', 'definicion': 'Identificador de las Operaciones de un Proceso en específico.\\xa0Ejm:\\xa0105 – Contabilidad de Ingresos\\u200b', 'imagen': 'no'}\n",
      "{'_id': ObjectId('6537ff42af7f3c7c40af6ec8'), 'T2': ObjectId('6537ff40af7f3c7c40af6e88'), 'T3': 3, 'nombre': 'Código de grupo de Concepto', 'definicion': 'Código que agrupan varios conceptos en común.\\xa0Ejm:\\xa0FORPAG (Formas de Pago)\\u200b', 'imagen': 'no'}\n",
      "{'_id': ObjectId('6537ff42af7f3c7c40af6ec9'), 'T2': ObjectId('6537ff40af7f3c7c40af6e88'), 'T3': 4, 'nombre': 'Código de Concepto.', 'definicion': 'Código de un Concepto de un específico.\\xa0Ejm:\\xa0NDB (Nota de Debido), NCR (Nota de Crédito)\\u200b', 'imagen': 'no'}\n",
      "{'_id': ObjectId('6537ff42af7f3c7c40af6eca'), 'T2': ObjectId('6537ff40af7f3c7c40af6e88'), 'T3': 5, 'nombre': 'Número de Cuenta Contable', 'definicion': 'Número de Cuentas y subcuentas contables, se compone de 06 cuentas.\\u200b', 'imagen': 'no'}\n",
      "{'_id': ObjectId('6537ff42af7f3c7c40af6ecb'), 'T2': ObjectId('6537ff40af7f3c7c40af6e88'), 'T3': 6, 'nombre': 'Naturaleza de Cuenta Contable', 'definicion': 'Especifica si es una cuenta de Débito (D) o Crédito (C).\\u200b', 'imagen': 'no'}\n",
      "{'_id': ObjectId('6537ff42af7f3c7c40af6ecc'), 'T2': ObjectId('6537ff40af7f3c7c40af6e88'), 'T3': 7, 'nombre': 'Identificador de Cuenta', 'definicion': 'Es el concatenado del código de Compañía + el número de Cuenta.\\u200b', 'imagen': 'no'}\n",
      "{'_id': ObjectId('6537ff42af7f3c7c40af6ecd'), 'T2': ObjectId('6537ff40af7f3c7c40af6e88'), 'T3': 8, 'nombre': 'Código de Ramo', 'definicion': 'Especifica el ramo al que afecta dicha cuenta, generalmente es un número de código de cuenta', 'imagen': 'no'}\n",
      "{'_id': ObjectId('6537ff42af7f3c7c40af6ece'), 'T2': ObjectId('6537ff40af7f3c7c40af6e88'), 'T3': 9, 'nombre': 'Identificador de Prima / Comisión', 'definicion': 'Especifica si es una Cuenta de Prima o Comisión.\\u200b', 'imagen': 'no'}\n",
      "{'_id': ObjectId('6537ff42af7f3c7c40af6ecf'), 'T2': ObjectId('6537ff40af7f3c7c40af6e88'), 'T3': 10, 'nombre': 'Riesgo Contable', 'definicion': 'Especifica el Código de Riesgo Contable, del ramo, normado por la SBS al que afecta dicha cuenta,\\xa0generalmente es un número de código de cuenta.', 'imagen': 'no'}\n",
      "{'_id': ObjectId('6537ff42af7f3c7c40af6ed0'), 'T2': ObjectId('6537ff40af7f3c7c40af6e88'), 'T3': 11, 'nombre': 'Identificador de tipo Riesgo Contable', 'definicion': 'Especifica si el riesgo contable es un Riesgo Agrupado (A) o Detallad (D).\\u200b', 'imagen': 'no'}\n",
      "{'_id': ObjectId('6537ff42af7f3c7c40af6ed1'), 'T2': ObjectId('6537ff40af7f3c7c40af6e88'), 'T3': 12, 'nombre': 'Código de Mercado', 'definicion': 'Especifica el tipo de mercado al que afecta dicha cuenta, generalmente es un número de código de\\xa0cuenta. Estos pueden ser: Afiliada, Exterior o Local.\\u200b', 'imagen': 'no'}\n",
      "{'_id': ObjectId('6537ff42af7f3c7c40af6ed2'), 'T2': ObjectId('6537ff40af7f3c7c40af6e88'), 'T3': 1, 'nombre': 'Cuadre de Caja', 'definicion': 'La siguiente imagen contiene un ejemple de cuadre de caja', 'imagen': '5-3-1.png'}\n",
      "{'_id': ObjectId('6537ff42af7f3c7c40af6ed3'), 'T2': ObjectId('6537ff40af7f3c7c40af6e88'), 'T3': 2, 'nombre': 'Cuadre de Siniestros', 'definicion': 'La siguiente imagen contiene un ejemplo de cuadre de siniestros', 'imagen': '5-3-2.png'}\n",
      "{'_id': ObjectId('6537ff42af7f3c7c40af6ed4'), 'T2': ObjectId('6537ff40af7f3c7c40af6e88'), 'T3': 3, 'nombre': 'Cuadre de Comisiones', 'definicion': 'La siguiente imagen contiene un ejemplo de cuadre de comisiones.', 'imagen': '5-3-3.png'}\n",
      "{'_id': ObjectId('6537ff42af7f3c7c40af6ed5'), 'T2': ObjectId('6537ff40af7f3c7c40af6e89'), 'T3': 1, 'nombre': 'Definicion de asiento contable', 'definicion': '\\u200b\\n\\nEl asiento contable es asignado de acuerdo al Código de Operación. Un asiento contable este asignado a un número de un tipo de contabilidad en específico. Un asiento contable contiene diversas cuentas contables. Los asientos contables deben tener un Debe y un Haber y cuadrar entre ellos. Existe el Asiento Contable Transaccional y Definitivo.', 'imagen': 'no'}\n",
      "{'_id': ObjectId('6537ff42af7f3c7c40af6ed6'), 'T2': ObjectId('6537ff40af7f3c7c40af6e89'), 'T3': 2, 'nombre': 'Principales Asientos Contables', 'definicion': 'La siguiente imagen contiene los principales asientos contables de Pacifico.', 'imagen': '3-4-2.png'}\n",
      "{'_id': ObjectId('6537ff42af7f3c7c40af6ed7'), 'T2': ObjectId('6537ff40af7f3c7c40af6e8b'), 'T3': 1, 'nombre': 'Activo', 'definicion': 'Recursos económicos y financieros controlados por una\\xa0entidad, que se espera que generen beneficios futuros.\\u200b', 'imagen': 'no'}\n",
      "{'_id': ObjectId('6537ff42af7f3c7c40af6ed8'), 'T2': ObjectId('6537ff40af7f3c7c40af6e8b'), 'T3': 2, 'nombre': 'Pasivo', 'definicion': 'Obligaciones económicas y financieras de una entidad\\xa0que deben ser liquidadas en el futuro, generalmente en\\xa0forma de pagos de dinero.\\u200b', 'imagen': 'no'}\n",
      "{'_id': ObjectId('6537ff42af7f3c7c40af6ed9'), 'T2': ObjectId('6537ff40af7f3c7c40af6e8b'), 'T3': 3, 'nombre': 'Debe', 'definicion': 'Representa el lado izquierdo de una cuenta contable,\\xa0registra\\xa0los valores que ingresan a una cuenta o que salen de una\\xa0cuenta de manera negativa.\\u200b', 'imagen': 'no'}\n",
      "{'_id': ObjectId('6537ff42af7f3c7c40af6eda'), 'T2': ObjectId('6537ff40af7f3c7c40af6e8b'), 'T3': 4, 'nombre': 'Haber', 'definicion': 'Representa el lado derecho de una cuenta contable,\\xa0registra\\xa0los valores que salen de una cuenta o que ingresan a una\\xa0cuenta de manera positiva.\\u200b', 'imagen': 'no'}\n",
      "{'_id': ObjectId('6537ff42af7f3c7c40af6edb'), 'T2': ObjectId('6537ff40af7f3c7c40af6e8b'), 'T3': 5, 'nombre': 'Principio de partida doble', 'definicion': 'Cada transacción contable afecta al menos dos cuentas\\xa0contables siguiendo el principio de la partida doble: un\\xa0registro en el \"Debe\" de una cuenta y un registro en el\\xa0\"Haber\" de otra cuenta.\\u200b', 'imagen': 'no'}\n",
      "{'_id': ObjectId('6537ff42af7f3c7c40af6edc'), 'T2': ObjectId('6537ff40af7f3c7c40af6e8b'), 'T3': 6, 'nombre': 'Finanzas', 'definicion': 'Si bien la contabilidad y las finanzas están estrechamente relacionadas, la contabilidad se centra más en el registro y la presentación sistemática \\nde la información financiera, mientras que las finanzas abarcan un campo más amplio que implica la gestión y el análisis de los recursos\\nfinancieros de una empresa, incluyendo la toma de decisiones de inversión, financiamiento, gestión del riesgo, entre otros aspectos.\\u200b\\n\\nEn resumen, aunque los conceptos de contabilidad y finanzas están interrelacionados, el concepto de asiento contable es específico de la contabilidad y se utiliza para registrar y documentar transacciones financieras en el sistema contable de una empresa.\\u200b', 'imagen': 'no'}\n",
      "{'_id': ObjectId('6537ff42af7f3c7c40af6edd'), 'T2': ObjectId('6537ff40af7f3c7c40af6e8d'), 'T3': 1, 'nombre': 'Activo', 'definicion': 'Recursos económicos y financieros controlados por una\\xa0entidad, que se espera que generen beneficios futuros.\\u200b', 'imagen': 'no'}\n",
      "{'_id': ObjectId('6537ff42af7f3c7c40af6ede'), 'T2': ObjectId('6537ff40af7f3c7c40af6e8d'), 'T3': 2, 'nombre': 'Pasivo', 'definicion': 'Obligaciones económicas y financieras de una entidad\\xa0que deben ser liquidadas en el futuro, generalmente en\\xa0forma de pagos de dinero.\\u200b', 'imagen': 'no'}\n",
      "{'_id': ObjectId('6537ff42af7f3c7c40af6edf'), 'T2': ObjectId('6537ff40af7f3c7c40af6e8d'), 'T3': 3, 'nombre': 'Debe', 'definicion': 'Representa el lado izquierdo de una cuenta contable,\\xa0registra\\xa0los valores que ingresan a una cuenta o que salen de una\\xa0cuenta de manera negativa.\\u200b', 'imagen': 'no'}\n",
      "{'_id': ObjectId('6537ff42af7f3c7c40af6ee0'), 'T2': ObjectId('6537ff40af7f3c7c40af6e8d'), 'T3': 4, 'nombre': 'Haber', 'definicion': 'Representa el lado derecho de una cuenta contable,\\xa0registra\\xa0los valores que salen de una cuenta o que ingresan a una\\xa0cuenta de manera positiva.\\u200b', 'imagen': 'no'}\n",
      "{'_id': ObjectId('6537ff42af7f3c7c40af6ee1'), 'T2': ObjectId('6537ff40af7f3c7c40af6e8d'), 'T3': 5, 'nombre': 'Principio de partida doble', 'definicion': 'Cada transacción contable afecta al menos dos cuentas\\xa0contables siguiendo el principio de la partida doble: un\\xa0registro en el \"Debe\" de una cuenta y un registro en el\\xa0\"Haber\" de otra cuenta.\\u200b', 'imagen': 'no'}\n",
      "{'_id': ObjectId('6537ff42af7f3c7c40af6ee2'), 'T2': ObjectId('6537ff40af7f3c7c40af6e8d'), 'T3': 6, 'nombre': 'Finanzas', 'definicion': 'Si bien la contabilidad y las finanzas están estrechamente relacionadas, la contabilidad se centra más en el registro y la presentación sistemática \\nde la información financiera, mientras que las finanzas abarcan un campo más amplio que implica la gestión y el análisis de los recursos\\nfinancieros de una empresa, incluyendo la toma de decisiones de inversión, financiamiento, gestión del riesgo, entre otros aspectos.\\u200b\\n\\nEn resumen, aunque los conceptos de contabilidad y finanzas están interrelacionados, el concepto de asiento contable es específico de la contabilidad y se utiliza para registrar y documentar transacciones financieras en el sistema contable de una empresa.\\u200b', 'imagen': 'no'}\n",
      "{'_id': ObjectId('6537ff42af7f3c7c40af6ee3'), 'T2': ObjectId('6537ff40af7f3c7c40af6e8e'), 'T3': 1, 'nombre': 'Código de Compañía', 'definicion': 'Código identificador de Pacifico Seguros, también llamado CODCIA, siempre es 01.\\u200b', 'imagen': 'no'}\n",
      "{'_id': ObjectId('6537ff42af7f3c7c40af6ee4'), 'T2': ObjectId('6537ff40af7f3c7c40af6e8e'), 'T3': 2, 'nombre': 'Código de Operación', 'definicion': 'Identificador de las Operaciones de un Proceso en específico.\\xa0Ejm:\\xa0105 – Contabilidad de Ingresos\\u200b', 'imagen': 'no'}\n",
      "{'_id': ObjectId('6537ff42af7f3c7c40af6ee5'), 'T2': ObjectId('6537ff40af7f3c7c40af6e8e'), 'T3': 3, 'nombre': 'Código de grupo de Concepto', 'definicion': 'Código que agrupan varios conceptos en común.\\xa0Ejm:\\xa0FORPAG (Formas de Pago)\\u200b', 'imagen': 'no'}\n",
      "{'_id': ObjectId('6537ff42af7f3c7c40af6ee6'), 'T2': ObjectId('6537ff40af7f3c7c40af6e8e'), 'T3': 4, 'nombre': 'Código de Concepto.', 'definicion': 'Código de un Concepto de un específico.\\xa0Ejm:\\xa0NDB (Nota de Debido), NCR (Nota de Crédito)\\u200b', 'imagen': 'no'}\n",
      "{'_id': ObjectId('6537ff42af7f3c7c40af6ee7'), 'T2': ObjectId('6537ff40af7f3c7c40af6e8e'), 'T3': 5, 'nombre': 'Número de Cuenta Contable', 'definicion': 'Número de Cuentas y subcuentas contables, se compone de 06 cuentas.\\u200b', 'imagen': 'no'}\n",
      "{'_id': ObjectId('6537ff42af7f3c7c40af6ee8'), 'T2': ObjectId('6537ff40af7f3c7c40af6e8e'), 'T3': 6, 'nombre': 'Naturaleza de Cuenta Contable', 'definicion': 'Especifica si es una cuenta de Débito (D) o Crédito (C).\\u200b', 'imagen': 'no'}\n",
      "{'_id': ObjectId('6537ff42af7f3c7c40af6ee9'), 'T2': ObjectId('6537ff40af7f3c7c40af6e8e'), 'T3': 7, 'nombre': 'Identificador de Cuenta', 'definicion': 'Es el concatenado del código de Compañía + el número de Cuenta.\\u200b', 'imagen': 'no'}\n",
      "{'_id': ObjectId('6537ff42af7f3c7c40af6eea'), 'T2': ObjectId('6537ff40af7f3c7c40af6e8e'), 'T3': 8, 'nombre': 'Código de Ramo', 'definicion': 'Especifica el ramo al que afecta dicha cuenta, generalmente es un número de código de cuenta', 'imagen': 'no'}\n",
      "{'_id': ObjectId('6537ff42af7f3c7c40af6eeb'), 'T2': ObjectId('6537ff40af7f3c7c40af6e8e'), 'T3': 9, 'nombre': 'Identificador de Prima / Comisión', 'definicion': 'Especifica si es una Cuenta de Prima o Comisión.\\u200b', 'imagen': 'no'}\n",
      "{'_id': ObjectId('6537ff42af7f3c7c40af6eec'), 'T2': ObjectId('6537ff40af7f3c7c40af6e8e'), 'T3': 10, 'nombre': 'Riesgo Contable', 'definicion': 'Especifica el Código de Riesgo Contable, del ramo, normado por la SBS al que afecta dicha cuenta,\\xa0generalmente es un número de código de cuenta.', 'imagen': 'no'}\n",
      "{'_id': ObjectId('6537ff42af7f3c7c40af6eed'), 'T2': ObjectId('6537ff40af7f3c7c40af6e8e'), 'T3': 11, 'nombre': 'Identificador de tipo Riesgo Contable', 'definicion': 'Especifica si el riesgo contable es un Riesgo Agrupado (A) o Detallad (D).\\u200b', 'imagen': 'no'}\n",
      "{'_id': ObjectId('6537ff42af7f3c7c40af6eee'), 'T2': ObjectId('6537ff40af7f3c7c40af6e8e'), 'T3': 12, 'nombre': 'Código de Mercado', 'definicion': 'Especifica el tipo de mercado al que afecta dicha cuenta, generalmente es un número de código de\\xa0cuenta. Estos pueden ser: Afiliada, Exterior o Local.\\u200b', 'imagen': 'no'}\n",
      "{'_id': ObjectId('6537ff42af7f3c7c40af6eef'), 'T2': ObjectId('6537ff40af7f3c7c40af6e8e'), 'T3': 1, 'nombre': 'Cuadre de Caja', 'definicion': 'La siguiente imagen contiene un ejemple de cuadre de caja', 'imagen': '5-3-1.png'}\n",
      "{'_id': ObjectId('6537ff42af7f3c7c40af6ef0'), 'T2': ObjectId('6537ff40af7f3c7c40af6e8e'), 'T3': 2, 'nombre': 'Cuadre de Siniestros', 'definicion': 'La siguiente imagen contiene un ejemplo de cuadre de siniestros', 'imagen': '5-3-2.png'}\n",
      "{'_id': ObjectId('6537ff42af7f3c7c40af6ef1'), 'T2': ObjectId('6537ff40af7f3c7c40af6e8e'), 'T3': 3, 'nombre': 'Cuadre de Comisiones', 'definicion': 'La siguiente imagen contiene un ejemplo de cuadre de comisiones.', 'imagen': '5-3-3.png'}\n",
      "{'_id': ObjectId('6537ff42af7f3c7c40af6ef2'), 'T2': ObjectId('6537ff40af7f3c7c40af6e90'), 'T3': 1, 'nombre': 'Activo', 'definicion': 'Recursos económicos y financieros controlados por una\\xa0entidad, que se espera que generen beneficios futuros.\\u200b', 'imagen': 'no'}\n",
      "{'_id': ObjectId('6537ff42af7f3c7c40af6ef3'), 'T2': ObjectId('6537ff40af7f3c7c40af6e90'), 'T3': 2, 'nombre': 'Pasivo', 'definicion': 'Obligaciones económicas y financieras de una entidad\\xa0que deben ser liquidadas en el futuro, generalmente en\\xa0forma de pagos de dinero.\\u200b', 'imagen': 'no'}\n",
      "{'_id': ObjectId('6537ff42af7f3c7c40af6ef4'), 'T2': ObjectId('6537ff40af7f3c7c40af6e90'), 'T3': 3, 'nombre': 'Debe', 'definicion': 'Representa el lado izquierdo de una cuenta contable,\\xa0registra\\xa0los valores que ingresan a una cuenta o que salen de una\\xa0cuenta de manera negativa.\\u200b', 'imagen': 'no'}\n",
      "{'_id': ObjectId('6537ff42af7f3c7c40af6ef5'), 'T2': ObjectId('6537ff40af7f3c7c40af6e90'), 'T3': 4, 'nombre': 'Haber', 'definicion': 'Representa el lado derecho de una cuenta contable,\\xa0registra\\xa0los valores que salen de una cuenta o que ingresan a una\\xa0cuenta de manera positiva.\\u200b', 'imagen': 'no'}\n",
      "{'_id': ObjectId('6537ff42af7f3c7c40af6ef6'), 'T2': ObjectId('6537ff40af7f3c7c40af6e90'), 'T3': 5, 'nombre': 'Principio de partida doble', 'definicion': 'Cada transacción contable afecta al menos dos cuentas\\xa0contables siguiendo el principio de la partida doble: un\\xa0registro en el \"Debe\" de una cuenta y un registro en el\\xa0\"Haber\" de otra cuenta.\\u200b', 'imagen': 'no'}\n",
      "{'_id': ObjectId('6537ff42af7f3c7c40af6ef7'), 'T2': ObjectId('6537ff40af7f3c7c40af6e90'), 'T3': 6, 'nombre': 'Finanzas', 'definicion': 'Si bien la contabilidad y las finanzas están estrechamente relacionadas, la contabilidad se centra más en el registro y la presentación sistemática \\nde la información financiera, mientras que las finanzas abarcan un campo más amplio que implica la gestión y el análisis de los recursos\\nfinancieros de una empresa, incluyendo la toma de decisiones de inversión, financiamiento, gestión del riesgo, entre otros aspectos.\\u200b\\n\\nEn resumen, aunque los conceptos de contabilidad y finanzas están interrelacionados, el concepto de asiento contable es específico de la contabilidad y se utiliza para registrar y documentar transacciones financieras en el sistema contable de una empresa.\\u200b', 'imagen': 'no'}\n",
      "{'_id': ObjectId('6537ff42af7f3c7c40af6ef8'), 'T2': ObjectId('6537ff40af7f3c7c40af6e91'), 'T3': 1, 'nombre': 'Código de Compañía', 'definicion': 'Código identificador de Pacifico Seguros, también llamado CODCIA, siempre es 01.\\u200b', 'imagen': 'no'}\n",
      "{'_id': ObjectId('6537ff42af7f3c7c40af6ef9'), 'T2': ObjectId('6537ff40af7f3c7c40af6e91'), 'T3': 2, 'nombre': 'Código de Operación', 'definicion': 'Identificador de las Operaciones de un Proceso en específico.\\xa0Ejm:\\xa0105 – Contabilidad de Ingresos\\u200b', 'imagen': 'no'}\n",
      "{'_id': ObjectId('6537ff42af7f3c7c40af6efa'), 'T2': ObjectId('6537ff40af7f3c7c40af6e91'), 'T3': 3, 'nombre': 'Código de grupo de Concepto', 'definicion': 'Código que agrupan varios conceptos en común.\\xa0Ejm:\\xa0FORPAG (Formas de Pago)\\u200b', 'imagen': 'no'}\n",
      "{'_id': ObjectId('6537ff42af7f3c7c40af6efb'), 'T2': ObjectId('6537ff40af7f3c7c40af6e91'), 'T3': 4, 'nombre': 'Código de Concepto.', 'definicion': 'Código de un Concepto de un específico.\\xa0Ejm:\\xa0NDB (Nota de Debido), NCR (Nota de Crédito)\\u200b', 'imagen': 'no'}\n",
      "{'_id': ObjectId('6537ff42af7f3c7c40af6efc'), 'T2': ObjectId('6537ff40af7f3c7c40af6e91'), 'T3': 5, 'nombre': 'Número de Cuenta Contable', 'definicion': 'Número de Cuentas y subcuentas contables, se compone de 06 cuentas.\\u200b', 'imagen': 'no'}\n",
      "{'_id': ObjectId('6537ff42af7f3c7c40af6efd'), 'T2': ObjectId('6537ff40af7f3c7c40af6e91'), 'T3': 6, 'nombre': 'Naturaleza de Cuenta Contable', 'definicion': 'Especifica si es una cuenta de Débito (D) o Crédito (C).\\u200b', 'imagen': 'no'}\n",
      "{'_id': ObjectId('6537ff42af7f3c7c40af6efe'), 'T2': ObjectId('6537ff40af7f3c7c40af6e91'), 'T3': 7, 'nombre': 'Identificador de Cuenta', 'definicion': 'Es el concatenado del código de Compañía + el número de Cuenta.\\u200b', 'imagen': 'no'}\n",
      "{'_id': ObjectId('6537ff42af7f3c7c40af6eff'), 'T2': ObjectId('6537ff40af7f3c7c40af6e91'), 'T3': 8, 'nombre': 'Código de Ramo', 'definicion': 'Especifica el ramo al que afecta dicha cuenta, generalmente es un número de código de cuenta', 'imagen': 'no'}\n",
      "{'_id': ObjectId('6537ff42af7f3c7c40af6f00'), 'T2': ObjectId('6537ff40af7f3c7c40af6e91'), 'T3': 9, 'nombre': 'Identificador de Prima / Comisión', 'definicion': 'Especifica si es una Cuenta de Prima o Comisión.\\u200b', 'imagen': 'no'}\n",
      "{'_id': ObjectId('6537ff42af7f3c7c40af6f01'), 'T2': ObjectId('6537ff40af7f3c7c40af6e91'), 'T3': 10, 'nombre': 'Riesgo Contable', 'definicion': 'Especifica el Código de Riesgo Contable, del ramo, normado por la SBS al que afecta dicha cuenta,\\xa0generalmente es un número de código de cuenta.', 'imagen': 'no'}\n",
      "{'_id': ObjectId('6537ff42af7f3c7c40af6f02'), 'T2': ObjectId('6537ff40af7f3c7c40af6e91'), 'T3': 11, 'nombre': 'Identificador de tipo Riesgo Contable', 'definicion': 'Especifica si el riesgo contable es un Riesgo Agrupado (A) o Detallad (D).\\u200b', 'imagen': 'no'}\n",
      "{'_id': ObjectId('6537ff42af7f3c7c40af6f03'), 'T2': ObjectId('6537ff40af7f3c7c40af6e91'), 'T3': 12, 'nombre': 'Código de Mercado', 'definicion': 'Especifica el tipo de mercado al que afecta dicha cuenta, generalmente es un número de código de\\xa0cuenta. Estos pueden ser: Afiliada, Exterior o Local.\\u200b', 'imagen': 'no'}\n",
      "{'_id': ObjectId('6537ff42af7f3c7c40af6f04'), 'T2': ObjectId('6537ff40af7f3c7c40af6e91'), 'T3': 1, 'nombre': 'Cuadre de Caja', 'definicion': 'La siguiente imagen contiene un ejemple de cuadre de caja', 'imagen': '5-3-1.png'}\n",
      "{'_id': ObjectId('6537ff42af7f3c7c40af6f05'), 'T2': ObjectId('6537ff40af7f3c7c40af6e91'), 'T3': 2, 'nombre': 'Cuadre de Siniestros', 'definicion': 'La siguiente imagen contiene un ejemplo de cuadre de siniestros', 'imagen': '5-3-2.png'}\n",
      "{'_id': ObjectId('6537ff42af7f3c7c40af6f06'), 'T2': ObjectId('6537ff40af7f3c7c40af6e91'), 'T3': 3, 'nombre': 'Cuadre de Comisiones', 'definicion': 'La siguiente imagen contiene un ejemplo de cuadre de comisiones.', 'imagen': '5-3-3.png'}\n",
      "{'_id': ObjectId('6537ff42af7f3c7c40af6f07'), 'T2': ObjectId('6537ff40af7f3c7c40af6e92'), 'T3': 1, 'nombre': 'Definicion de asiento contable', 'definicion': '\\u200b\\n\\nEl asiento contable es asignado de acuerdo al Código de Operación. Un asiento contable este asignado a un número de un tipo de contabilidad en específico. Un asiento contable contiene diversas cuentas contables. Los asientos contables deben tener un Debe y un Haber y cuadrar entre ellos. Existe el Asiento Contable Transaccional y Definitivo.', 'imagen': 'no'}\n",
      "{'_id': ObjectId('6537ff42af7f3c7c40af6f08'), 'T2': ObjectId('6537ff40af7f3c7c40af6e92'), 'T3': 2, 'nombre': 'Principales Asientos Contables', 'definicion': 'La siguiente imagen contiene los principales asientos contables de Pacifico.', 'imagen': '3-4-2.png'}\n"
     ]
    }
   ],
   "source": [
    "topics_n3_in_db = list(db[\"TopicosN3Conta\"].find())\n",
    "for topic in topics_n3_in_db:\n",
    "    print(topic)"
   ]
  }
 ],
 "metadata": {
  "kernelspec": {
   "display_name": "Python 3 (ipykernel)",
   "language": "python",
   "name": "python3"
  },
  "language_info": {
   "codemirror_mode": {
    "name": "ipython",
    "version": 3
   },
   "file_extension": ".py",
   "mimetype": "text/x-python",
   "name": "python",
   "nbconvert_exporter": "python",
   "pygments_lexer": "ipython3",
   "version": "3.10.12"
  }
 },
 "nbformat": 4,
 "nbformat_minor": 2
}
