{
 "cells": [
  {
   "cell_type": "code",
   "execution_count": 1,
   "metadata": {},
   "outputs": [],
   "source": [
    "import pandas as pd\n",
    "from database.client import get_database\n",
    "from pymongo.database import Database"
   ]
  },
  {
   "cell_type": "code",
   "execution_count": 2,
   "metadata": {},
   "outputs": [
    {
     "name": "stderr",
     "output_type": "stream",
     "text": [
      "/home/mirna/Documents/Contabot/database/client.py:19: UserWarning: se conecto bien la db:\n",
      "  warn(\"se conecto bien la db:\")\n"
     ]
    }
   ],
   "source": [
    "db:Database = get_database()"
   ]
  },
  {
   "cell_type": "code",
   "execution_count": 3,
   "metadata": {},
   "outputs": [],
   "source": [
    "from bson import ObjectId"
   ]
  },
  {
   "cell_type": "code",
   "execution_count": 4,
   "metadata": {},
   "outputs": [],
   "source": [
    "\n",
    "users_data = [\n",
    "    {\n",
    "        '_id': ObjectId(),\n",
    "        'user_id': '29:17qn82r7l02v9zFRS_c49WLua7LYYSebXQDzHLdR_gJiAadzIV8FoiEefCRaLkQ3pPu1Q6jCoeeAIYbFREOUwfg',\n",
    "        'Area': 'Contabilidad',\n",
    "    },\n",
    "    {\n",
    "        '_id': ObjectId(),\n",
    "        'user_id': '29:1i6blBJ_QHmu-TcDAJt3mNgSvxyLURIS7HXyA_U0UCu2n8D3yrkm-qWyOmsmavPYH8SmCEu1UuVksg4HwjfD4kg',\n",
    "        'Area': 'RRHH',\n",
    "    },\n",
    "    {\n",
    "        '_id': ObjectId(),\n",
    "        'user_id': '29:2kDacmzCeXU7ZLR4AGYOl0LcyozbOovJHLdRaakfpUJKC2oeoAIYbFREOUwfg',\n",
    "        'Area': 'Contabilidad',\n",
    "    },\n",
    "    {\n",
    "        '_id': ObjectId(),\n",
    "        'user_id': '29:G8dopfizg44naLp72rjPL1QCoee2z9aFRkcimXHdgJiAadzIV8FoiEefCRaLkQ3p2XSeb186jwuYyZFuWBybFREOUwfg',\n",
    "        'Area': 'RRHH',\n",
    "    },\n",
    "        {\n",
    "        '_id': ObjectId(),\n",
    "        'user_id': '29:17qn82r7l02v9zFRS_c49WLua7LYYSebXQDzHLdR_gJiAadzIV8F85iEefCRaLkQ3pPu1Q6jCoeeAIYbFREOUwfg',\n",
    "        'Area': 'Contabilidad',\n",
    "    },\n",
    "    {\n",
    "        '_id': ObjectId(),\n",
    "        'user_id': '29:2ndtKjYXuVrHr4gfeAoC7Yyhyb0gU8leoaLsIb41DF25zpqPEJ8EraCLkQwuYsFuWBYj6oALIMKCOoeRAcLX12Z',\n",
    "        'Area': 'RRHH',\n",
    "    },\n",
    "    {\n",
    "        '_id': ObjectId(),\n",
    "        'user_id': '29:2kDacmzCeXU7ZLR4AGYOl0LcyozbOovJHLdRaak12UJKC2oeoAIYbFREOUwfg',\n",
    "        'Area': 'RRHH'\n",
    "    },\n",
    "    {\n",
    "        '_id': ObjectId(),\n",
    "        'user_id': '29:G8d85fizg44naLp72rjPL1QCoee2z9aFRkcimX15gJiAadzIV8FoiEefCRaLkQ3p2XSeb1Q6jwuYyZFuWBybFREOUwfg',\n",
    "        'Area': 'Contabilidad'\n",
    "    },\n",
    "    {\n",
    "        '_id': ObjectId(),\n",
    "        'user_id': '29:1dtn8gk4aXeIjp7kTR7saULruoQbDu2F8A6YbzadJrypSaaXbSByrLaiJLKR3CuCOeeAIYbFREOUwfg',\n",
    "        'Area': 'RRHH'\n",
    "    },\n",
    "    {\n",
    "        '_id': ObjectId(),\n",
    "        'user_id': '29:rj2Cu9kWbuXK5bzLorCjTifhJeouG69zz2Jb9aVeonHzpJcaViFdC1U1Q6jaeAIYbFREOUwfg',\n",
    "        'Area': 'Contabilidad'\n",
    "    },\n",
    "    {\n",
    "        '_id': ObjectId(),\n",
    "        'user_id': '29:Hrj8XvVeEoaLLD2CKYTF9irGaLweMBozj8nz7H9gJzRge9z5bduoSbea1Q6jCoeeAIYbFREOUwfg',\n",
    "        'Area': 'Contabilidad'\n",
    "    },\n",
    "    {\n",
    "        '_id': ObjectId(),\n",
    "        'user_id': '29:C9aEoaLLD2CKYTF9irGaLweoAiIadJrypSaaXbSByrLaiJLKR3CuCOeeAIYbFREOUwfg',\n",
    "        'Area': 'RRHH'\n",
    "    },\n",
    "    {\n",
    "        '_id': ObjectId(),\n",
    "        'user_id': '29:9LaoR13eAIYbFREOUwfg',\n",
    "        'Area': 'RRHH'\n",
    "    },\n",
    "    {\n",
    "        '_id': ObjectId(),\n",
    "        'user_id': '29:JoRaRiLiJLRJL1M5JL1MxRj2ez2oALIMKCOeeAIYbFREOUwfg',\n",
    "        'Area': 'Contabilidad'\n",
    "    },\n",
    "    {\n",
    "        '_id': ObjectId(),\n",
    "        'user_id': '29:L8iLcu8rXrToraLz5z9ZFu2oALIMKCOeeAIYbFREOUwfg',\n",
    "        'Area': 'Contabilidad'\n",
    "    },\n",
    "        {\n",
    "        '_id': ObjectId(),\n",
    "        'user_id': '29:L8iLcu8rXrToraLz9z9ZFu1oALIMKCOeeAIYbFREOUwfg',\n",
    "        'Area': 'Contabilidad'\n",
    "    },\n",
    "    {\n",
    "        '_id': ObjectId(),\n",
    "        'user_id': '29:m29MBoMIL5G4mHoAO19ieMIaLMIz1eMIRKla2ezR15JL1MxRjSaeAIYbFREOUwfg',\n",
    "        'Area': 'Tecnología'\n",
    "    },\n",
    "    {\n",
    "        '_id': ObjectId(),\n",
    "        'user_id': '29:7fJeaviaaz9ZRrZr15vVaiKgCHhoMrzLdzfaJvadJrypSaaXbSByrLaiJLKR3CayAIYbFREOUwfg',\n",
    "        'Area': 'Finanzas'\n",
    "    },\n",
    "    {\n",
    "        '_id': ObjectId(),\n",
    "        'user_id': '29:aan2hHY4uOoaKerT9MTBbyOtroYrT31LdLuYorHvC2z9C2eeeAIYbFREOUwfg',\n",
    "        'Area': 'Marketing'\n",
    "    },\n",
    "    {\n",
    "        '_id': ObjectId(),\n",
    "        'user_id': '29:M8raaRxhCRo1dRci5huaiRilJLCzJ0aToLuYorHvCzLeaJvadJrypSaaXbSByrLa9YyLMIaVZFu2oALIMKCOeeAIYbFREOUwfg',\n",
    "        'Area': 'Tecnología'\n",
    "    }\n",
    "]\n"
   ]
  },
  {
   "cell_type": "code",
   "execution_count": 5,
   "metadata": {},
   "outputs": [
    {
     "data": {
      "text/plain": [
       "<pymongo.results.InsertManyResult at 0x7f603dbeb520>"
      ]
     },
     "execution_count": 5,
     "metadata": {},
     "output_type": "execute_result"
    }
   ],
   "source": [
    "collection = db[\"Users\"]\n",
    "collection.insert_many(users_data)"
   ]
  }
 ],
 "metadata": {
  "kernelspec": {
   "display_name": "Python 3 (ipykernel)",
   "language": "python",
   "name": "python3"
  }
 },
 "nbformat": 4,
 "nbformat_minor": 2
}
